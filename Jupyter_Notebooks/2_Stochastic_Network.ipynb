{
 "cells": [
  {
   "cell_type": "code",
   "execution_count": null,
   "metadata": {},
   "outputs": [],
   "source": [
    "from scipy.optimize import curve_fit\n",
    "from scipy.interpolate import interp1d\n",
    "import sys\n",
    "sys.path.append('../Codes/')\n",
    "from models import *\n",
    "from Epi_models import*\n",
    "from functions import *\n",
    "import networkx as nx\n",
    "import matplotlib.animation as animation\n",
    "import seaborn\n",
    "from matplotlib.lines import Line2D\n",
    "import pickle\n",
    "\n",
    "def node_degrees(Amat):\n",
    "        return Amat.sum(axis=0).reshape(N,1)\n",
    "import warnings\n",
    "warnings.filterwarnings('ignore')\n",
    "import matplotlib.ticker as ticker\n",
    "\n",
    "Text_files_path = '../../../../Dropbox/Research/Epidemiology_2020/Text_files/'\n",
    "\n",
    "%autosave 60"
   ]
  },
  {
   "cell_type": "markdown",
   "metadata": {},
   "source": [
    "## The Network\n",
    "The network is generated usign the barabasi-albert algorithm. It has a heavy-tailed degree distribution characterized by a power-law behaviour and a exponential cutoff."
   ]
  },
  {
   "cell_type": "code",
   "execution_count": null,
   "metadata": {},
   "outputs": [],
   "source": [
    "#----Load data network of contacts----\n",
    "N = 2000\n",
    "infile_k = open(Text_files_path+'Stochastic/Networks/barabasi-albert/k.pck','rb')\n",
    "k = pickle.load(infile_k)\n",
    "infile_k.close()\n",
    "infile_p_k = open(Text_files_path+'Stochastic/Networks/barabasi-albert/p_k.pck','rb')\n",
    "p_k = pickle.load(infile_p_k)\n",
    "infile_p_k.close()\n",
    "\n",
    "meanDegree = np.sum(k*p_k)\n",
    "meanDegree2 = np.sum(k**2*p_k)\n",
    "print(meanDegree)\n",
    "print(np.max(k))"
   ]
  },
  {
   "cell_type": "code",
   "execution_count": null,
   "metadata": {},
   "outputs": [],
   "source": [
    "fig, ax = plt.subplots(figsize=(10,8))\n",
    "ax.plot(k[1:], p_k[1:], 'o', color = 'darkblue')\n",
    "my_plot_layout(ax=ax, xlabel='Degree', ylabel='Probability', xscale = 'log', yscale = 'log')\n",
    "#fig.savefig('../Figures/Stochastic/Networks/barabasi-albert/degree_distribution.png')"
   ]
  },
  {
   "cell_type": "code",
   "execution_count": null,
   "metadata": {},
   "outputs": [],
   "source": [
    "colors_R = plt.cm.Paired(range(8))\n",
    "N = 2000\n",
    "print('N:', N)\n",
    "gamma = 1/6\n",
    "print('Gamma:', gamma)\n",
    "sigma = 1000\n",
    "print('Sigma:', sigma)\n",
    "# I defined the R0 values for the SIR model and then get the values of beta\n",
    "R0s = np.array([4.5, 3.0, 2.0, 1.2, 0.8]) #for p=1.0 I don't take into account R0=0.8\n",
    "betas = R0s*gamma\n",
    "print('betas:', betas)\n",
    "R0_es = np.sqrt(1-4*((sigma*gamma-sigma*betas)/(sigma+gamma)**2))\n",
    "Ts = 1-((meanDegree)/(meanDegree+R0s))\n",
    "T_c = (meanDegree)/(meanDegree2-meanDegree)\n",
    "R0_ns = Ts/T_c\n",
    "print('T_c:', T_c)\n",
    "print('Ts:', Ts)\n",
    "print('R0s:', R0s)\n",
    "print('R0_es:', R0_es)\n",
    "print('R0_ns:', R0_ns)\n",
    "tau = 1/gamma\n",
    "tau_e = 2*(gamma+sigma)**(-1)\n",
    "print('tau:', tau)\n",
    "print('tau_e:', tau_e)"
   ]
  },
  {
   "cell_type": "markdown",
   "metadata": {},
   "source": [
    "## What is the probability of establishment?"
   ]
  },
  {
   "cell_type": "code",
   "execution_count": null,
   "metadata": {
    "scrolled": false
   },
   "outputs": [],
   "source": [
    "lines_symbols = [Line2D([0], [0], color='grey', linewidth=3, linestyle='dotted', ms = 8)]\n",
    "labels_symbols = [r'$\\frac{1}{R_0}$']\n",
    "\n",
    "\n",
    "fig, ax = plt.subplots(figsize = (10,8))\n",
    "p=0.0\n",
    "sigma=1000\n",
    "gamma = 1/6\n",
    "if(p==0.0):\n",
    "    R0s = np.array([4.5, 3.0, 2.0, 1.2, 0.8])\n",
    "if(p==1.0):\n",
    "    R0s = np.array([4.5, 3.0, 2.0, 1.2])    \n",
    "for i, R0 in enumerate(R0s):\n",
    "    data_I = np.loadtxt(Text_files_path+'Stochastic/Networks/barabasi-albert/ensemble_I_R0%.1f_sigma%.1f_N%d_p%.1f_barabasi-albert.txt'%(R0, sigma, N, p))\n",
    "    data_nodes = np.loadtxt('../../../../Dropbox/Research/Epidemiology_2020/Text_files/Stochastic/Networks/barabasi-albert/stats_R0%.1f_sigma%.1f_N%d_p%.1f_barabasi-albert.txt'%(R0, sigma, N, p))\n",
    "    nodes_ext , nodes_succ, I_ext, I_succ, max_values = sort_nodes(p=p, beta=R0*gamma, sigma=sigma, gamma=gamma, data_I = data_I, data_nodes = data_nodes)\n",
    "    n_ext = len(nodes_ext[:,0])\n",
    "    print(n_ext)\n",
    "    prob_ext = n_ext/len(data_nodes[:,0])\n",
    "    data_hist = numpy.histogram(max_values, bins = range(0,int(max(max_values))+2, 1), density =True);\n",
    "    ax.plot(data_hist[1][:-1], np.cumsum(data_hist[0]), '-', color = colors_R[i], linewidth = 3, label = r'$R_0=$%.1f'%(R0))\n",
    "    #ax.plot(data_hist[1][:-1], data_hist[0], '-', color = color_Rs[i], linewidth = 3, alpha = 0.3)\n",
    "    ax.hlines(1/(R0), 0,int(max(max_values))+2, color = colors_R[i], linewidth=3, linestyle='dashed' )\n",
    "    ax.hlines(prob_ext, 0,int(max(max_values))+2, color = colors_R[i], linewidth=3, linestyle='dotted' )\n",
    "\n",
    "my_plot_layout(ax = ax, xlabel=r'Maximum $n_{{I}}$', ylabel=r'$P(<n)$')\n",
    "ax.set_xlim(0, 100)\n",
    "#ax.set_ylim(0, 10)\n",
    "handles, labels = ax.get_legend_handles_labels()\n",
    "ax.legend(np.concatenate((lines_symbols,handles)), np.concatenate((labels_symbols,labels)) , fontsize = 20, loc = 5, framealpha=.95)\n",
    "#fig.savefig('../Figures/Stochastic/Networks/barabasi-albert/maximum_ni_1_sigma_%.2f_p%.1f.pdf'%(sigma,p))\n"
   ]
  },
  {
   "cell_type": "markdown",
   "metadata": {},
   "source": [
    "## What is the probability of epidemic as a function of $R_0$?"
   ]
  },
  {
   "cell_type": "code",
   "execution_count": null,
   "metadata": {
    "scrolled": false
   },
   "outputs": [],
   "source": [
    "from scipy.stats import expon\n",
    "gamma = 1/6\n",
    "beta_array2 = np.linspace(0.3*gamma, 8*gamma, 10)\n",
    "u = np.linspace(0.00005,0.9,100000)\n",
    "#----Critical occupancy----\n",
    "T_c = meanDegree/(meanDegree2-meanDegree)\n",
    "\n",
    "Ts_SIR = 1-((meanDegree)/((meanDegree+((beta_array2)/(gamma)))))\n",
    "Ts_SEIR = 1-((meanDegree)/(meanDegree+((beta_array2)*2*(gamma+(1/4))**(-1))))\n",
    "u_sol_SIR = np.array([u[np.array([np.sum(p_k*k*(1+(i-1)*j)**(k-1)) for i in u])>(np.sum(p_k*k)*u)][-1] for j in Ts_SIR])\n",
    "u_sol_SEIR = np.array([u[np.array([np.sum(p_k*k*(1+(i-1)*j)**(k-1)) for i in u])>(np.sum(p_k*k)*u)][-1] for j in Ts_SEIR])\n",
    "S_SIR = 1 - np.array([np.sum(p_k*(1+(i-1)*j)**k) for (i, j) in zip(u_sol_SIR, Ts_SIR)])\n",
    "S_SEIR = 1 - np.array([np.sum(p_k*(1+(i-1)*j)**(k)) for (i, j) in zip(u_sol_SEIR, Ts_SEIR)])\n",
    "\n",
    "\n",
    "N = 2000\n",
    "ps = [1,0]\n",
    "sigmas = [1000, 1/4]\n",
    "gamma = 1/6\n",
    "R0_array = np.linspace(1, 8, 50)\n",
    "R0s_p1 = np.array([4.5, 3.0, 2.0, 1.2])\n",
    "R0s_p0 = np.array([4.5, 3.0, 2.0, 1.2, 0.8])\n",
    "betas1 = R0s_p1*gamma\n",
    "betas2 = R0s_p0*gamma\n",
    "betas_p = np.array([betas1, betas2])\n",
    "R0s_SIR_p = np.array([R0s_p1, (1-((4)/((4+((betas2)/(gamma))))))/T_c])\n",
    "R0s_SEIR_p = np.array([np.sqrt(1-4*(((1/4)*gamma-(1/4)*betas1)/((1/4)+gamma)**2)), (1-((4)/(4+((betas2)*2*(gamma+(1/4))**(-1)))))/T_c])\n",
    "R0s_all = np.array([R0s_SIR_p, R0s_SEIR_p])\n",
    "\n",
    "colors_R = plt.cm.Paired(range(7))\n",
    "colors_p = ['darkblue', 'darkred']\n",
    "lines_symbols = [Line2D([0], [0],linewidth = 0, color='grey', marker = '^', ms = 12)]\n",
    "labels_symbols = [r'Simulation']\n",
    "labels_model = ['SIR', 'SEIR']\n",
    "\n",
    "for l, sigma in enumerate(sigmas):\n",
    "    fig, ax = plt.subplots(figsize = (10,8), gridspec_kw={'left':.2})\n",
    "    if(sigma==1/4):\n",
    "        ax.set_title('SEIR model', fontsize = 28)\n",
    "    if(sigma==1000):\n",
    "        ax.set_title('SIR model', fontsize = 28)\n",
    "    R0s_p = R0s_all[l]\n",
    "    for p, betas, R0s, color_p in zip(ps, betas_p, R0s_p, colors_p):\n",
    "        \n",
    "        p_epi_array = np.array([])\n",
    "        \n",
    "        for beta, R0, color in zip(betas, R0s, colors_R):\n",
    "            #----Edge Occupancy probability----\n",
    "\n",
    "            tau = 1/gamma\n",
    "            data_nodes = np.loadtxt('../../../../Dropbox/Research/Epidemiology_2020/Text_files/Stochastic/Networks/barabasi-albert/stats_R0%.1f_sigma%.1f_N%d_p%.1f_barabasi-albert.txt'%(beta/gamma, sigma, N, p))\n",
    "            data_I = np.loadtxt('../../../../Dropbox/Research/Epidemiology_2020/Text_files/Stochastic/Networks/barabasi-albert/ensemble_I_R0%.1f_sigma%.1f_N%d_p%.1f_barabasi-albert.txt'%(beta/gamma, sigma, N, p))\n",
    "            nodes_ext , nodes_succ, I_ext, I_succ, max_values = sort_nodes(p=p, beta=beta, sigma=sigma, gamma=gamma, data_I = data_I, data_nodes = data_nodes)\n",
    "            \n",
    "            if(sigma==1/4):\n",
    "                tau = 2*((gamma)+(sigma))**(-1)\n",
    "            s = ((R0)-1)\n",
    "            \n",
    "            #n_epi = len(max_values[max_values>(1/(s/tau))])\n",
    "            #n_ext = len(max_values[max_values<(1/(s/tau))])\n",
    "            \n",
    "            n_epi = len(nodes_succ[:,0])\n",
    "            n_ext = len(nodes_ext[:,0])\n",
    "            \n",
    "            n_total = n_epi + n_ext\n",
    "            p_epi_array = np.append(p_epi_array, (n_epi)/n_total)\n",
    "        \n",
    "        print(R0s)\n",
    "        ax.plot(R0s, p_epi_array, marker = '^', color = color_p, ms = 15, linestyle = '')\n",
    "        \n",
    "        if(p==1.0):\n",
    "            if(sigma==1000):\n",
    "                ax.plot(R0_array, 1-((1/R0_array)),linestyle = 'dashed', linewidth = 3, color = color_p, label = 'Fully connected')\n",
    "            if(sigma==1/4):\n",
    "                ax.plot(R0_array, 1-((1/R0_array)**2),linestyle = 'dashed', linewidth = 3, color = color_p, label = 'Fully connected')\n",
    "        if(p==0.0):\n",
    "            if(sigma==1000):\n",
    "                R0_N_array2 = Ts_SIR/T_c\n",
    "                ax.plot(R0_N_array2, S_SIR ,linestyle = 'dashed', linewidth = 3, color = color_p, label = r'Network Analytic')\n",
    "            if(sigma==1/4):\n",
    "                R0_N_array2 = Ts_SEIR/T_c\n",
    "                ax.plot(R0_N_array2, S_SEIR ,linestyle = 'dashed', linewidth = 3, color = color_p, label = r'Network Analytic')\n",
    "        \n",
    "    ax.hlines(1,0.5,6.5, linestyle = 'dashed', color = 'silver', alpha = .4, linewidth = 1)\n",
    "    ax.vlines(1,0,1, linestyle = 'dashed', color = 'silver', alpha = .4, linewidth = 1)\n",
    "    my_plot_layout(ax=ax, xlabel = r'$R_0$', ylabel=r'Probability of epidemic')\n",
    "    ax.set_xlim(0.7,6.05)\n",
    "    ax.set_ylim(-0.05, 1.05)\n",
    "    handles, labels = ax.get_legend_handles_labels()\n",
    "    ax.legend(np.concatenate((lines_symbols,handles)), np.concatenate((labels_symbols,labels)) , fontsize = 20, loc = 4, framealpha=.95)\n",
    "    fig.savefig('../Figures/Stochastic/Networks/barabasi-albert/Prob_epi_'+labels_model[l]+'.pdf')\n"
   ]
  },
  {
   "cell_type": "code",
   "execution_count": null,
   "metadata": {},
   "outputs": [],
   "source": []
  },
  {
   "cell_type": "code",
   "execution_count": null,
   "metadata": {},
   "outputs": [],
   "source": [
    "beta = np.linspace(1.2*gamma, 4.5*gamma, 10)\n",
    "t = 1-np.array([np.sum(p_k*((k)/(k+(b/gamma)))) for b in beta])\n",
    "u = np.array([u[np.array([np.sum(p_k*k*(1+(i-1)*j)**(k-1)) for i in u])>(np.sum(p_k*k)*u)][-1] for j in t])\n",
    "\n",
    "plt.plot(beta, 1 - (4/(4+ (beta/gamma))), label = '1')\n",
    "plt.plot(beta, t, label = '2')\n",
    "plt.plot(beta, 1-u, label = 'u')\n",
    "\n",
    "u_sol_SIR = np.array([u[np.array([np.sum(p_k*k*(1+(i-1)*j)**(k-1)) for i in u])>(np.sum(p_k*k)*u)][-1] for j in Ts_SIR])\n",
    "\n",
    "\n",
    "plt.legend()"
   ]
  },
  {
   "cell_type": "code",
   "execution_count": null,
   "metadata": {},
   "outputs": [],
   "source": [
    "%time np.size(np.arange(5))"
   ]
  },
  {
   "cell_type": "code",
   "execution_count": null,
   "metadata": {},
   "outputs": [],
   "source": [
    "%time len(np.arange(5))"
   ]
  },
  {
   "cell_type": "code",
   "execution_count": null,
   "metadata": {},
   "outputs": [],
   "source": [
    "np.reshape([1,2,3,4,5,6], (3,2))"
   ]
  },
  {
   "cell_type": "code",
   "execution_count": null,
   "metadata": {},
   "outputs": [],
   "source": [
    "from matplotlib.ticker import FormatStrFormatter\n",
    "FormatStrFormatter('%.2f').format_ticks([12,3])"
   ]
  },
  {
   "cell_type": "code",
   "execution_count": null,
   "metadata": {},
   "outputs": [],
   "source": [
    "2*((1/6)+(1/4))**(-1)"
   ]
  },
  {
   "cell_type": "code",
   "execution_count": null,
   "metadata": {},
   "outputs": [],
   "source": [
    "1/((1/6)+(10000))"
   ]
  },
  {
   "cell_type": "code",
   "execution_count": 52,
   "metadata": {},
   "outputs": [
    {
     "data": {
      "text/plain": [
       "<matplotlib.legend.Legend at 0x7f9e9ebf6df0>"
      ]
     },
     "execution_count": 52,
     "metadata": {},
     "output_type": "execute_result"
    },
    {
     "data": {
      "image/png": "[encoded data removed]",
      "text/plain": [
       "<Figure size 432x288 with 1 Axes>"
      ]
     },
     "metadata": {
      "needs_background": "light"
     },
     "output_type": "display_data"
    }
   ],
   "source": [
    "betas = np.linspace(0.1, 5, 30)*gamma\n",
    "sigma = 1/4\n",
    "gamma = 1/6\n",
    "meanDegree = 6\n",
    "T_c = meanDegree/(meanDegree2-meanDegree)\n",
    "\n",
    "R0s = np.sqrt(1-4*((sigma*gamma-sigma*betas)/(sigma+gamma)**2))\n",
    "R0Ns = (1-((meanDegree)/(meanDegree+((betas)*2*(gamma+sigma)**(-1)))))/T_c\n",
    "plt.plot(betas, R0s, label = r'$R_0$')\n",
    "plt.plot(betas, R0Ns, label = r'$R^N_0$')\n",
    "plt.xlabel(r'$\\beta$')\n",
    "plt.hlines(1, 0.1*gamma, 5*gamma, linestyle = '--', color = 'silver')\n",
    "plt.legend()"
   ]
  },
  {
   "cell_type": "code",
   "execution_count": null,
   "metadata": {},
   "outputs": [],
   "source": [
    "print(meanDegree2)"
   ]
  },
  {
   "cell_type": "code",
   "execution_count": null,
   "metadata": {},
   "outputs": [],
   "source": []
  }
 ],
 "metadata": {
  "kernelspec": {
   "display_name": "Python 3",
   "language": "python",
   "name": "python3"
  },
  "language_info": {
   "codemirror_mode": {
    "name": "ipython",
    "version": 3
   },
   "file_extension": ".py",
   "mimetype": "text/x-python",
   "name": "python",
   "nbconvert_exporter": "python",
   "pygments_lexer": "ipython3",
   "version": "3.8.5"
  }
 },
 "nbformat": 4,
 "nbformat_minor": 4
}
