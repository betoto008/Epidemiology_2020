{
 "cells": [
  {
   "cell_type": "code",
   "execution_count": 3,
   "metadata": {},
   "outputs": [],
   "source": [
    "import numpy as np\n",
    "import matplotlib.pyplot as plt"
   ]
  },
  {
   "cell_type": "code",
   "execution_count": 81,
   "metadata": {},
   "outputs": [
    {
     "data": {
      "text/plain": [
       "(0, 68)"
      ]
     },
     "execution_count": 81,
     "metadata": {},
     "output_type": "execute_result"
    },
    {
     "data": {
      "image/png": "[encoded data removed]",
      "text/plain": [
       "<Figure size 432x288 with 1 Axes>"
      ]
     },
     "metadata": {
      "needs_background": "light"
     },
     "output_type": "display_data"
    }
   ],
   "source": [
    "def exp_funct(t, a):\n",
    "    return np.exp(np.multiply(a-1,t))\n",
    "\n",
    "t_array = np.linspace(0,100,80)\n",
    "a = np.linspace(1.5,3,40)\n",
    "a = a[::-1]\n",
    "#a = np.concatenate((np.full(100,3),np.full(100,1.1)))\n",
    "a = np.concatenate((a,np.full(40,1.5)))\n",
    "y_array = np.transpose([np.cumsum(exp_funct(t_array,a)),exp_funct(t_array,a)])\n",
    "plt.plot(t_array, y_array, 'dr', label = 'a', ms = 5)\n",
    "plt.yscale('log')\n",
    "plt.legend()\n",
    "plt.xlim(0,68)"
   ]
  },
  {
   "cell_type": "code",
   "execution_count": null,
   "metadata": {},
   "outputs": [],
   "source": []
  },
  {
   "cell_type": "code",
   "execution_count": null,
   "metadata": {},
   "outputs": [],
   "source": []
  },
  {
   "cell_type": "code",
   "execution_count": null,
   "metadata": {},
   "outputs": [],
   "source": []
  }
 ],
 "metadata": {
  "kernelspec": {
   "display_name": "Python 3",
   "language": "python",
   "name": "python3"
  }
 },
 "nbformat": 4,
 "nbformat_minor": 2
}
