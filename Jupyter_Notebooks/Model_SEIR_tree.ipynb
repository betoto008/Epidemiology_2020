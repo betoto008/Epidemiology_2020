{
 "cells": [
  {
   "cell_type": "code",
   "execution_count": 1,
   "metadata": {},
   "outputs": [
    {
     "data": {
      "application/javascript": [
       "IPython.notebook.set_autosave_interval(60000)"
      ]
     },
     "metadata": {},
     "output_type": "display_data"
    },
    {
     "name": "stdout",
     "output_type": "stream",
     "text": [
      "Autosaving every 60 seconds\n"
     ]
    }
   ],
   "source": [
    "from scipy.optimize import curve_fit\n",
    "from scipy.interpolate import interp1d\n",
    "import sys\n",
    "sys.path.append('../Codes/')\n",
    "from models import *\n",
    "from Epi_models import*\n",
    "from functions import *\n",
    "import networkx as nx\n",
    "import matplotlib.animation as animation\n",
    "import seaborn\n",
    "def node_degrees(Amat):\n",
    "        return Amat.sum(axis=0).reshape(N,1)\n",
    "import warnings\n",
    "warnings.filterwarnings('ignore')\n",
    "import matplotlib.ticker as ticker\n",
    "%autosave 60"
   ]
  },
  {
   "cell_type": "markdown",
   "metadata": {},
   "source": [
    "## Functions"
   ]
  },
  {
   "cell_type": "code",
   "execution_count": 2,
   "metadata": {},
   "outputs": [],
   "source": [
    "def node_degrees(Amat):\n",
    "        return Amat.sum(axis=0).reshape(N,1)\n",
    "    \n",
    "def my_power_law_function(x,a,b,c):\n",
    "    return 0 + b*(x-1)**(-c)\n",
    "\n",
    "def my_linear_function(x, a, b):\n",
    "    return a+b*x\n",
    "\n",
    "def est(beta, gamma):\n",
    "    lambda1 = (np.sqrt(1-4*((sigma*gamma-sigma*beta)/(sigma+gamma)**2))-1)*((sigma+gamma)/2)\n",
    "    return 1/lambda1\n",
    "\n",
    "def est0(beta, gamma):\n",
    "    lambda0 = (((beta)/(gamma))-1)*gamma\n",
    "    return 1/lambda0\n",
    "\n",
    "def cumulative_power_law(x, a, b):\n",
    "    return (x**(a+1)-1)/(b**(a+1)-1)\n",
    "\n",
    "def cumulative_power_law_2(x, a, b):\n",
    "    return 1 - (x/b)**(a+1)\n",
    "\n"
   ]
  },
  {
   "cell_type": "markdown",
   "metadata": {},
   "source": [
    "# Stochastic simulations on Networks"
   ]
  },
  {
   "cell_type": "code",
   "execution_count": null,
   "metadata": {},
   "outputs": [],
   "source": [
    "N = 200\n",
    "graphs_names = np.array(['barabasi-albert','watts-strogatz'])\n",
    "G1 = nx.barabasi_albert_graph(N, 2)\n",
    "G2 = nx.watts_strogatz_graph(N, 4, 1)"
   ]
  },
  {
   "cell_type": "markdown",
   "metadata": {},
   "source": [
    "## Ensemble"
   ]
  },
  {
   "cell_type": "code",
   "execution_count": null,
   "metadata": {},
   "outputs": [],
   "source": [
    "sample_sizes = [150, 250, 400]\n",
    "colors = ['b', 'g', 'r']\n",
    "colors2 = ['purple', 'violet', 'brown']\n",
    "N = 8000\n",
    "gamma = 1/6\n",
    "sigma = 1000 #1/4\n",
    "graphs = [G1]\n",
    "graphs_names = np.array(['barabasi-albert','watts-strogatz'])\n",
    "sampling_protocol = np.array(['uniform', 'aposteriori'])\n",
    "folders  = np.array(['../Figures/Control/Stochastic/Ensemble/Networks/', '../Figures/Stochastic/Networks/'])\n",
    "\n",
    "#ps = np.array([1.0])\n",
    "ps = np.array([1.0, 0.5, 0.1, 0.0])\n",
    "print('ps:',ps)\n",
    "#n_sims = np.array([5000])\n",
    "n_sims = np.array([10000, 8000, 8000, 8000, 4000, 4000, 3000])\n",
    "print('n_sim:',n_sims)\n",
    "#R0s = np.array([4.5])\n",
    "R0s = np.array([1.5, 2.0, 2.5, 3.0, 3.5, 4.0, 4.5])\n",
    "print('R0s:',R0s)\n",
    "#Ts_total = np.array([18])\n",
    "Ts_total = np.array([150, 70, 40, 34, 26, 22, 18]) #for R0 = [1.5, 2.0, 2.5, 3.0, 3.5, 4.0, 4.5] use [150, 70, 40, 34, 26, 22, 18]\n",
    "print('Times:',Ts_total)\n",
    "slopes = np.array([1, 1, 1, 1, 1, 1, 1])\n",
    "#slopes = np.array([1.41968876, 0.91350942, 0.4592912, 0.33278117, 0.28665741, 0.26664137, 0.25])\n",
    "print('slopes:',slopes)\n",
    "betas = R0s*gamma\n",
    "R0ss = np.sqrt(1-4*((sigma*(gamma-betas))/(sigma+gamma)**2))\n",
    "aposteriori = False\n",
    "print('Aposteriori:',aposteriori)"
   ]
  }
 ],
 "metadata": {
  "kernelspec": {
   "display_name": "Python 3",
   "language": "python",
   "name": "python3"
  },
  "language_info": {
   "codemirror_mode": {
    "name": "ipython",
    "version": 3
   },
   "file_extension": ".py",
   "mimetype": "text/x-python",
   "name": "python",
   "nbconvert_exporter": "python",
   "pygments_lexer": "ipython3",
   "version": "3.7.6"
  }
 },
 "nbformat": 4,
 "nbformat_minor": 4
}
